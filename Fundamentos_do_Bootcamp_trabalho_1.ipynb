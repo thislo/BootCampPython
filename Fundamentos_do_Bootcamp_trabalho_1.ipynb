{
  "nbformat": 4,
  "nbformat_minor": 0,
  "metadata": {
    "colab": {
      "name": "Fundamentos do Bootcamp_trabalho_1.ipynb",
      "provenance": []
    },
    "kernelspec": {
      "name": "python3",
      "display_name": "Python 3"
    }
  },
  "cells": [
    {
      "cell_type": "code",
      "metadata": {
        "colab": {
          "base_uri": "https://localhost:8080/"
        },
        "id": "DSxj_IPOspkE",
        "outputId": "02aac85e-bf5c-4497-9452-ed5beda540b4"
      },
      "source": [
        "#codigo1\n",
        "idade = int(input (\"Entre com a sua idade:\"))\n",
        "nova_idade = idade + 1\n",
        "print(\"No proximo ano você terá: {} anos\".format(nova_idade))"
      ],
      "execution_count": null,
      "outputs": [
        {
          "output_type": "stream",
          "text": [
            "Entre com a sua idade:31\n",
            "No proximo ano você terá: 32 anos\n"
          ],
          "name": "stdout"
        }
      ]
    },
    {
      "cell_type": "code",
      "metadata": {
        "colab": {
          "base_uri": "https://localhost:8080/"
        },
        "id": "SrDM1Brvtvot",
        "outputId": "d0ada6cb-7681-4ca8-edd1-bc3fddfa597f"
      },
      "source": [
        "#codigo2\n",
        "lado_a=35\n",
        "lado_b=14.33333\n",
        "area_do_retangulo= (lado_a)*(lado_b)\n",
        "print('O retangulo de lado A = %d e lado B = %.2f é %.3f '%(lado_a,lado_b,area_do_retangulo))"
      ],
      "execution_count": null,
      "outputs": [
        {
          "output_type": "stream",
          "text": [
            "O retangulo de lado A = 35 e lado B = 14.33 é 501.667 \n"
          ],
          "name": "stdout"
        }
      ]
    },
    {
      "cell_type": "code",
      "metadata": {
        "colab": {
          "base_uri": "https://localhost:8080/"
        },
        "id": "WBbPQTglubko",
        "outputId": "bb81a21f-31d7-42d4-8415-e15203860b48"
      },
      "source": [
        "#codigo3\n",
        "lista_1 = [1,2,'IGTI']\n",
        "lista_2 = [2,3,\"Bootcamp\"]\n",
        "lista_3 = lista_1 +lista_2\n",
        "print(lista_3)"
      ],
      "execution_count": null,
      "outputs": [
        {
          "output_type": "stream",
          "text": [
            "[1, 2, 'IGTI', 2, 3, 'Bootcamp']\n"
          ],
          "name": "stdout"
        }
      ]
    },
    {
      "cell_type": "code",
      "metadata": {
        "colab": {
          "base_uri": "https://localhost:8080/"
        },
        "id": "ttUQ2lTxvDRu",
        "outputId": "b1ef2b07-dcf8-4d18-8a8b-310421d80289"
      },
      "source": [
        "#codigo4\n",
        "chute=int(input('Entre com um valor inteiro de 0 a 30: '))\n",
        "adivinhacao=[5,6,10,14,16,20,30]\n",
        "if chute in adivinhacao:\n",
        "    print('Você acertou um dos números que eu estava pensando.')\n",
        "    \n",
        "    if chute > 15:\n",
        "        print('Esse numero é maior do que 20.')\n",
        "    if chute < 20:\n",
        "        print('Esse número é menor do que 20.')\n",
        "    \n",
        "    print('Voce é fera.')\n",
        "else: \n",
        "  print('Que pena, você errou. Pode tentar outra vez.')\n",
        "print('Obrigado por participar.')"
      ],
      "execution_count": null,
      "outputs": [
        {
          "output_type": "stream",
          "text": [
            "Entre com um valor inteiro de 0 a 30: 1\n",
            "Que pena, você errou. Pode tentar outra vez.\n",
            "Obrigado por participar.\n"
          ],
          "name": "stdout"
        }
      ]
    },
    {
      "cell_type": "code",
      "metadata": {
        "colab": {
          "base_uri": "https://localhost:8080/"
        },
        "id": "blNBaYIWxiDe",
        "outputId": "89ab9f01-5401-4bf6-f646-b0b593064e30"
      },
      "source": [
        "#codigo5\n",
        "frutas = [\"maça\",\"banana\", \"uva\",\"goiaba\"]\n",
        "for x in frutas:\n",
        "  if x == \"uva\":\n",
        "    break\n",
        "  print(x)"
      ],
      "execution_count": null,
      "outputs": [
        {
          "output_type": "stream",
          "text": [
            "maça\n",
            "banana\n"
          ],
          "name": "stdout"
        }
      ]
    },
    {
      "cell_type": "code",
      "metadata": {
        "colab": {
          "base_uri": "https://localhost:8080/"
        },
        "id": "NJ-fVatyyRJE",
        "outputId": "a7260443-e79b-4835-b763-9777491a3194"
      },
      "source": [
        "#codigo6\n",
        "n = 5\n",
        "while n >= 0:\n",
        "  n -= 1\n",
        "  print(n)"
      ],
      "execution_count": null,
      "outputs": [
        {
          "output_type": "stream",
          "text": [
            "4\n",
            "3\n",
            "2\n",
            "1\n",
            "0\n",
            "-1\n"
          ],
          "name": "stdout"
        }
      ]
    }
  ]
}