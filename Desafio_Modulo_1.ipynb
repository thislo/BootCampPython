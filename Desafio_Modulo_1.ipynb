{
  "nbformat": 4,
  "nbformat_minor": 0,
  "metadata": {
    "colab": {
      "name": "Desafio_Modulo_1.ipynb",
      "provenance": [],
      "authorship_tag": "ABX9TyPvi/Qu2Yd3lFnfdk5vPPQj",
      "include_colab_link": true
    },
    "kernelspec": {
      "name": "python3",
      "display_name": "Python 3"
    }
  },
  "cells": [
    {
      "cell_type": "markdown",
      "metadata": {
        "id": "view-in-github",
        "colab_type": "text"
      },
      "source": [
        "<a href=\"https://colab.research.google.com/github/thislo/BootCampPython/blob/main/Desafio_Modulo_1.ipynb\" target=\"_parent\"><img src=\"https://colab.research.google.com/assets/colab-badge.svg\" alt=\"Open In Colab\"/></a>"
      ]
    },
    {
      "cell_type": "code",
      "metadata": {
        "id": "jUcHk2lcTY7j"
      },
      "source": [
        "#Codigo1\n",
        "def funcao_1(num1, num2):\n",
        "    resultado = num1 * num2\n",
        "    if resultado <= 1000:\n",
        "        return resultado\n",
        "    else:\n",
        "        return num1 + num2\n",
        "\n",
        "numero_1 = 20\n",
        "numero_2 = 30"
      ],
      "execution_count": 6,
      "outputs": []
    },
    {
      "cell_type": "code",
      "metadata": {
        "colab": {
          "base_uri": "https://localhost:8080/"
        },
        "id": "Sx7XidzsUST2",
        "outputId": "f6c4f8d5-c9fe-4b06-fff0-f3ee750ac801"
      },
      "source": [
        "#codigo2\n",
        "def funcao_2(num):\n",
        "    numero_anterior = 0\n",
        "    for i in range(num):\n",
        "        resultado = numero_anterior + i\n",
        "        print(\"Numero A\", i, \"Numero B\", numero_anterior,\" Resultado: \", resultado)\n",
        "        numero_anterior = i\n",
        "\n",
        "funcao_2(10)"
      ],
      "execution_count": 8,
      "outputs": [
        {
          "output_type": "stream",
          "text": [
            "Numero A 0 Numero B 0  Resultado:  0\n",
            "Numero A 1 Numero B 0  Resultado:  1\n",
            "Numero A 2 Numero B 1  Resultado:  3\n",
            "Numero A 3 Numero B 2  Resultado:  5\n",
            "Numero A 4 Numero B 3  Resultado:  7\n",
            "Numero A 5 Numero B 4  Resultado:  9\n",
            "Numero A 6 Numero B 5  Resultado:  11\n",
            "Numero A 7 Numero B 6  Resultado:  13\n",
            "Numero A 8 Numero B 7  Resultado:  15\n",
            "Numero A 9 Numero B 8  Resultado:  17\n"
          ],
          "name": "stdout"
        }
      ]
    },
    {
      "cell_type": "code",
      "metadata": {
        "id": "reiQHEbOVPJm"
      },
      "source": [
        "#codigo3\n",
        "def funcao_3(str):\n",
        "  for i in range(0, len(str)-1, 2):\n",
        "    print(\"indice[\",i,\"]\", str[i])"
      ],
      "execution_count": 9,
      "outputs": []
    },
    {
      "cell_type": "code",
      "metadata": {
        "id": "7a1iv4BXVwvU"
      },
      "source": [
        "#codigo4\n",
        "def funcao_4(lista_numerica):\n",
        "    print(\"valor passado\", lista_numerica)\n",
        "    a = lista_numerica[0]\n",
        "    b = lista_numerica[-1]\n",
        "    if (a == b):\n",
        "        return True\n",
        "    else:\n",
        "        return False\n",
        "\n",
        "numeros = [10,20,30,40,10]"
      ],
      "execution_count": 10,
      "outputs": []
    },
    {
      "cell_type": "code",
      "metadata": {
        "id": "fXCheL0IWZGa"
      },
      "source": [
        "#codigo5\n",
        "def funcao_da_classe_1(self, string):\n",
        "    dicionario = {'I': 1, 'V': 5, 'X' : 10, 'L' : 50, 'C' : 100, 'D' : 500, 'M' : 1000}\n",
        "    valor = 0\n",
        "    for i in range(len(string)):\n",
        "        if i > 0 and dcionario[string[i]] > dicionario[string[i - 1]]:\n",
        "            valor +=dicionario[string[i]] - 2 * dicionario[string[i -1]]\n",
        "        else:\n",
        "            valor += dicinario[string[1]]\n",
        "    return valor"
      ],
      "execution_count": 12,
      "outputs": []
    },
    {
      "cell_type": "code",
      "metadata": {
        "colab": {
          "base_uri": "https://localhost:8080/"
        },
        "id": "JB4bES2SXjYn",
        "outputId": "27c02a71-881d-4060-972c-0e0573f312db"
      },
      "source": [
        "#codigo6\n",
        "\n",
        "class A:\n",
        "  def __init__(self):\n",
        "      self.calcI(30)\n",
        "      print(\"i da Classe A\", self.i)\n",
        "\n",
        "  def calcI(self, i):\n",
        "      self.i = 2 * i;\n",
        "\n",
        "class B(A):\n",
        "  def __init__(self):\n",
        "      super().__init__()\n",
        "\n",
        "  def calcI(self, i):\n",
        "      self.i = 3 * i;\n",
        "\n",
        "b = B()"
      ],
      "execution_count": 13,
      "outputs": [
        {
          "output_type": "stream",
          "text": [
            "i da Classe A 90\n"
          ],
          "name": "stdout"
        }
      ]
    },
    {
      "cell_type": "code",
      "metadata": {
        "id": "IALkQy0mYmoT"
      },
      "source": [
        "#codigo7\n",
        "class Classe_2():\n",
        "    def __init__(self, l, w):\n",
        "        self.a = l\n",
        "        self.b = w\n",
        "    \n",
        "    def metodo_1(self):\n",
        "        return self.a*self.b\n",
        "\n",
        "objeto_1 = Classe_2(12, 10)"
      ],
      "execution_count": 15,
      "outputs": []
    }
  ]
}